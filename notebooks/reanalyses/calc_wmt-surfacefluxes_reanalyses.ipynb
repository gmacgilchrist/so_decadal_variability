{
 "cells": [
  {
   "cell_type": "markdown",
   "metadata": {},
   "source": [
    "## Calculate surface-forced watermass transformation\n",
    "Presently, information about the products, e.g. names of variables is hard-coded. Could improve robustness by specifying generic names."
   ]
  },
  {
   "cell_type": "code",
   "execution_count": 2,
   "metadata": {},
   "outputs": [
    {
     "name": "stdout",
     "output_type": "stream",
     "text": [
      "The autoreload extension is already loaded. To reload it, use:\n",
      "  %reload_ext autoreload\n"
     ]
    }
   ],
   "source": [
    "%load_ext autoreload\n",
    "%autoreload 2\n",
    "from dask.diagnostics import ProgressBar\n",
    "import so_decadal_variability as so\n",
    "import numpy as np\n",
    "import xarray as xr\n",
    "import os\n",
    "import gsw\n",
    "from xhistogram.xarray import histogram\n",
    "import pandas as pd\n",
    "import glob"
   ]
  },
  {
   "cell_type": "code",
   "execution_count": null,
   "metadata": {},
   "outputs": [],
   "source": [
    "from dask.distributed import Client\n",
    "client = Client()\n",
    "client"
   ]
  },
  {
   "cell_type": "code",
   "execution_count": 33,
   "metadata": {},
   "outputs": [
    {
     "name": "stdout",
     "output_type": "stream",
     "text": [
      "mkdir: cannot create directory ‘../../data/processed/merra2_en4’: File exists\n",
      "G.sigma0.0.02.1980\n",
      "G.sigma0.0.02.1981\n",
      "G.sigma0.0.02.1982\n",
      "G.sigma0.0.02.1983\n",
      "G.sigma0.0.02.1984\n",
      "G.sigma0.0.02.1985\n",
      "G.sigma0.0.02.1986\n",
      "G.sigma0.0.02.1987\n",
      "G.sigma0.0.02.1988\n",
      "G.sigma0.0.02.1989\n",
      "G.sigma0.0.02.1990\n",
      "G.sigma0.0.02.1991\n",
      "G.sigma0.0.02.1992\n",
      "G.sigma0.0.02.1993\n",
      "G.sigma0.0.02.1994\n",
      "G.sigma0.0.02.1995\n",
      "G.sigma0.0.02.1996\n",
      "G.sigma0.0.02.1997\n",
      "G.sigma0.0.02.1998\n",
      "G.sigma0.0.02.1999\n",
      "G.sigma0.0.02.2000\n",
      "G.sigma0.0.02.2001\n",
      "G.sigma0.0.02.2002\n",
      "G.sigma0.0.02.2003\n",
      "G.sigma0.0.02.2004\n",
      "G.sigma0.0.02.2005\n",
      "G.sigma0.0.02.2006\n",
      "G.sigma0.0.02.2007\n",
      "G.sigma0.0.02.2008\n",
      "G.sigma0.0.02.2009\n",
      "G.sigma0.0.02.2010\n",
      "G.sigma0.0.02.2011\n",
      "G.sigma0.0.02.2012\n",
      "G.sigma0.0.02.2013\n",
      "G.sigma0.0.02.2014\n",
      "G.sigma0.0.02.2015\n",
      "G.sigma0.0.02.2016\n",
      "G.sigma0.0.02.2017\n",
      "G.sigma0.0.02.2018\n"
     ]
    }
   ],
   "source": [
    "fluxname='merra2'\n",
    "oceanname='en4'\n",
    "onoceangrid=False\n",
    "density = 'sigma0'\n",
    "timeslice = slice('1980','2018')\n",
    "dg = 0.02\n",
    "density_edges = np.arange(1024,1028.5,dg)\n",
    "save = True\n",
    "savesequential = True\n",
    "# Load data\n",
    "ds = so.process.loaddata(fluxname,oceanname,timeslice,onoceangrid)\n",
    "# Get grid\n",
    "if onoceangrid:\n",
    "    gridname = oceanname\n",
    "else:\n",
    "    gridname = fluxname\n",
    "ds, xgrid = so.grid.get_xgcm(ds)\n",
    "# Calculate a density variable\n",
    "ds['sigma0'] = gsw.sigma0(ds['sa'].isel(depth=0).squeeze(),ds['sst'])\n",
    "ds['b'] = xr.ones_like(ds['sigma0'])\n",
    "ds['vol4d'] = ds['cell_area']*ds['dz']\n",
    "ds = ds.isel(depth=0).squeeze().drop(['depth'])\n",
    "ds = ds.chunk(chunks={'time':12})\n",
    "# Calculate WMT\n",
    "G = so.wmt.calc_watermasstransformation(ds,xgrid,density_edges,density=density,b_ones=False,penetrative_sw=False)\n",
    "\n",
    "# Save\n",
    "years = pd.to_datetime(G['time'].values).year.unique()\n",
    "if save:\n",
    "    if onoceangrid:\n",
    "        localdir = '../../data/processed/'+fluxname+'_'+oceanname+'_onoceangrid'\n",
    "    else:\n",
    "        localdir = '../../data/processed/'+fluxname+'_'+oceanname\n",
    "        \n",
    "    if ~os.path.isdir(localdir):\n",
    "        !mkdir $localdir\n",
    "        \n",
    "    if savesequential:\n",
    "        for year in years:\n",
    "            temp = G.sel(time=str(year))\n",
    "            filename = 'G.'+density+'.'+str(dg)+'.'+str(year)\n",
    "            print(filename)\n",
    "            temp.to_netcdf(localdir+'/'+filename+'.nc')\n",
    "    else:\n",
    "        filename = 'G.'+density+'.'+str(dg)\n",
    "        G.to_netcdf(localdir+'/'+filename+'.nc')"
   ]
  },
  {
   "cell_type": "code",
   "execution_count": null,
   "metadata": {},
   "outputs": [],
   "source": []
  }
 ],
 "metadata": {
  "kernelspec": {
   "display_name": "Python [conda env:so_decadal_variability]",
   "language": "python",
   "name": "conda-env-so_decadal_variability-py"
  },
  "language_info": {
   "codemirror_mode": {
    "name": "ipython",
    "version": 3
   },
   "file_extension": ".py",
   "mimetype": "text/x-python",
   "name": "python",
   "nbconvert_exporter": "python",
   "pygments_lexer": "ipython3",
   "version": "3.7.10"
  }
 },
 "nbformat": 4,
 "nbformat_minor": 4
}
