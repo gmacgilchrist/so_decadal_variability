{
 "cells": [
  {
   "cell_type": "markdown",
   "metadata": {},
   "source": [
    "## Calculate surface-forced watermass transformation\n",
    "Presently, information about the products, e.g. names of variables is hard-coded. Could improve robustness by specifying generic names."
   ]
  },
  {
   "cell_type": "code",
   "execution_count": 24,
   "metadata": {},
   "outputs": [
    {
     "name": "stdout",
     "output_type": "stream",
     "text": [
      "The autoreload extension is already loaded. To reload it, use:\n",
      "  %reload_ext autoreload\n"
     ]
    }
   ],
   "source": [
    "%load_ext autoreload\n",
    "%autoreload 2\n",
    "from dask.diagnostics import ProgressBar\n",
    "import so_decadal_variability as so\n",
    "import numpy as np\n",
    "import xarray as xr\n",
    "import os\n",
    "import gsw\n",
    "from xhistogram.xarray import histogram\n",
    "import pandas as pd\n",
    "import glob"
   ]
  },
  {
   "cell_type": "code",
   "execution_count": 2,
   "metadata": {},
   "outputs": [
    {
     "data": {
      "text/html": [
       "<table style=\"border: 2px solid white;\">\n",
       "<tr>\n",
       "<td style=\"vertical-align: top; border: 0px solid white\">\n",
       "<h3 style=\"text-align: left;\">Client</h3>\n",
       "<ul style=\"text-align: left; list-style: none; margin: 0; padding: 0;\">\n",
       "  <li><b>Scheduler: </b>tcp://127.0.0.1:39961</li>\n",
       "  <li><b>Dashboard: </b><a href='http://127.0.0.1:8787/status' target='_blank'>http://127.0.0.1:8787/status</a></li>\n",
       "</ul>\n",
       "</td>\n",
       "<td style=\"vertical-align: top; border: 0px solid white\">\n",
       "<h3 style=\"text-align: left;\">Cluster</h3>\n",
       "<ul style=\"text-align: left; list-style:none; margin: 0; padding: 0;\">\n",
       "  <li><b>Workers: </b>8</li>\n",
       "  <li><b>Cores: </b>56</li>\n",
       "  <li><b>Memory: </b>66.80 GB</li>\n",
       "</ul>\n",
       "</td>\n",
       "</tr>\n",
       "</table>"
      ],
      "text/plain": [
       "<Client: 'tcp://127.0.0.1:39961' processes=8 threads=56, memory=66.80 GB>"
      ]
     },
     "execution_count": 2,
     "metadata": {},
     "output_type": "execute_result"
    }
   ],
   "source": [
    "from dask.distributed import Client\n",
    "client = Client()\n",
    "client"
   ]
  },
  {
   "cell_type": "code",
   "execution_count": 26,
   "metadata": {},
   "outputs": [
    {
     "name": "stdout",
     "output_type": "stream",
     "text": [
      "mkdir: cannot create directory ‘../../data/processed/jra55_en4’: File exists\n",
      "G.sigma0.0.1.1980\n",
      "G.sigma0.0.1.1981\n",
      "G.sigma0.0.1.1982\n",
      "G.sigma0.0.1.1983\n",
      "G.sigma0.0.1.1984\n",
      "G.sigma0.0.1.1985\n",
      "G.sigma0.0.1.1986\n",
      "G.sigma0.0.1.1987\n",
      "G.sigma0.0.1.1988\n",
      "G.sigma0.0.1.1989\n",
      "G.sigma0.0.1.1990\n",
      "G.sigma0.0.1.1991\n",
      "G.sigma0.0.1.1992\n",
      "G.sigma0.0.1.1993\n",
      "G.sigma0.0.1.1994\n",
      "G.sigma0.0.1.1995\n",
      "G.sigma0.0.1.1996\n",
      "G.sigma0.0.1.1997\n",
      "G.sigma0.0.1.1998\n",
      "G.sigma0.0.1.1999\n",
      "G.sigma0.0.1.2000\n",
      "G.sigma0.0.1.2001\n",
      "G.sigma0.0.1.2002\n",
      "G.sigma0.0.1.2003\n",
      "G.sigma0.0.1.2004\n",
      "G.sigma0.0.1.2005\n",
      "G.sigma0.0.1.2006\n",
      "G.sigma0.0.1.2007\n",
      "G.sigma0.0.1.2008\n",
      "G.sigma0.0.1.2009\n",
      "G.sigma0.0.1.2010\n",
      "G.sigma0.0.1.2011\n",
      "G.sigma0.0.1.2012\n",
      "G.sigma0.0.1.2013\n",
      "G.sigma0.0.1.2014\n",
      "G.sigma0.0.1.2015\n",
      "G.sigma0.0.1.2016\n",
      "G.sigma0.0.1.2017\n",
      "G.sigma0.0.1.2018\n"
     ]
    }
   ],
   "source": [
    "fluxname='jra55'\n",
    "oceanname='en4'\n",
    "onoceangrid=False\n",
    "density = 'sigma0'\n",
    "timeslice = slice('1980','2018')\n",
    "dg = 0.1\n",
    "density_edges = np.arange(1024,1028.5,dg)\n",
    "save = True\n",
    "savesequential = True\n",
    "# Load data\n",
    "ds = so.process.loaddata(fluxname,oceanname,timeslice,onoceangrid)\n",
    "# Get grid\n",
    "ds, xgrid = so.grid.get_xgcm(ds,gridlon='lon',gridlat='lat')\n",
    "# Calculate a density variable\n",
    "ds['sst'] = ds['sst']-273.15\n",
    "ds['sigma0'] = gsw.sigma0(ds['sa'].isel(depth=0).squeeze(),ds['sst'])\n",
    "ds['b'] = xr.ones_like(ds['sigma0'])\n",
    "ds['vol4d'] = ds['cell_area']*ds['dz']\n",
    "# ds = ds.rename({'longitude':'lon','latitude':'lat','longitude_left':'lon_left','latitude_left':'lat_left'})\n",
    "ds = ds.isel(depth=0).squeeze().drop(['depth'])\n",
    "ds = ds.chunk(chunks={'time':12})\n",
    "# Calculate WMT\n",
    "G = so.wmt.calc_watermasstransformation(ds,xgrid,density_edges,density=density,b_ones=False,penetrative_sw=False)\n",
    "\n",
    "# Save\n",
    "years = pd.to_datetime(G['time'].values).year.unique()\n",
    "if save:\n",
    "    if onoceangrid:\n",
    "        localdir = '../../data/processed/'+fluxname+'_'+oceanname+'_onoceangrid'\n",
    "    else:\n",
    "        localdir = '../../data/processed/'+fluxname+'_'+oceanname\n",
    "        \n",
    "    if ~os.path.isdir(localdir):\n",
    "        !mkdir $localdir\n",
    "        \n",
    "    if savesequential:\n",
    "        for year in years:\n",
    "            temp = G.sel(time=str(year))\n",
    "            filename = 'G.'+density+'.'+str(dg)+'.'+str(year)\n",
    "            print(filename)\n",
    "            temp.to_netcdf(localdir+'/'+filename+'.nc')\n",
    "    else:\n",
    "        filename = 'G.'+density+'.'+str(dg)\n",
    "        G.to_netcdf(localdir+'/'+filename+'.nc')"
   ]
  }
 ],
 "metadata": {
  "kernelspec": {
   "display_name": "Python [conda env:so_decadal_variability]",
   "language": "python",
   "name": "conda-env-so_decadal_variability-py"
  },
  "language_info": {
   "codemirror_mode": {
    "name": "ipython",
    "version": 3
   },
   "file_extension": ".py",
   "mimetype": "text/x-python",
   "name": "python",
   "nbconvert_exporter": "python",
   "pygments_lexer": "ipython3",
   "version": "3.7.10"
  }
 },
 "nbformat": 4,
 "nbformat_minor": 4
}
