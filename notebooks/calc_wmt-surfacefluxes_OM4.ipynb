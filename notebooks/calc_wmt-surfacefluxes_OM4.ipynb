{
 "cells": [
  {
   "cell_type": "code",
   "execution_count": 1,
   "metadata": {},
   "outputs": [],
   "source": [
    "%load_ext autoreload\n",
    "%autoreload 2"
   ]
  },
  {
   "cell_type": "code",
   "execution_count": 2,
   "metadata": {},
   "outputs": [],
   "source": [
    "from dask.distributed import Client, LocalCluster\n",
    "from dask_jobqueue import SLURMCluster\n",
    "from dask.diagnostics import ProgressBar"
   ]
  },
  {
   "cell_type": "code",
   "execution_count": 3,
   "metadata": {},
   "outputs": [],
   "source": [
    "# cluster = SLURMCluster(queue='analysis', cores=4, project='gfdl_o',\n",
    "#                        memory=\"24GB\", walltime=\"00:30:00\",\n",
    "#                        scheduler_options={\"dashboard_address\": \"localhost:8726\"})\n",
    "cluster = SLURMCluster(queue='analysis', cores=4, project='gfdl_o',\n",
    "                       processes=1,\n",
    "                       memory=\"64GB\", walltime=\"00:30:00\",\n",
    "                       scheduler_options={\"dashboard_address\": \"localhost:8726\"})\n",
    "# cluster = LocalCluster(memory_limit=\"256GB\",\n",
    "#                        threads_per_worker=10,\n",
    "#                        n_workers=1,\n",
    "#                        dashboard_address=8726,\n",
    "#                        processes=False)"
   ]
  },
  {
   "cell_type": "code",
   "execution_count": 4,
   "metadata": {},
   "outputs": [
    {
     "data": {
      "text/html": [
       "<table style=\"border: 2px solid white;\">\n",
       "<tr>\n",
       "<td style=\"vertical-align: top; border: 0px solid white\">\n",
       "<h3 style=\"text-align: left;\">Client</h3>\n",
       "<ul style=\"text-align: left; list-style: none; margin: 0; padding: 0;\">\n",
       "  <li><b>Scheduler: </b>tcp://140.208.147.171:41243</li>\n",
       "  <li><b>Dashboard: </b><a href='http://140.208.147.171:8726/status' target='_blank'>http://140.208.147.171:8726/status</a></li>\n",
       "</ul>\n",
       "</td>\n",
       "<td style=\"vertical-align: top; border: 0px solid white\">\n",
       "<h3 style=\"text-align: left;\">Cluster</h3>\n",
       "<ul style=\"text-align: left; list-style:none; margin: 0; padding: 0;\">\n",
       "  <li><b>Workers: </b>0</li>\n",
       "  <li><b>Cores: </b>0</li>\n",
       "  <li><b>Memory: </b>0 B</li>\n",
       "</ul>\n",
       "</td>\n",
       "</tr>\n",
       "</table>"
      ],
      "text/plain": [
       "<Client: 'tcp://140.208.147.171:41243' processes=0 threads=0, memory=0 B>"
      ]
     },
     "execution_count": 4,
     "metadata": {},
     "output_type": "execute_result"
    }
   ],
   "source": [
    "cluster.scale(8)\n",
    "client = Client(cluster)\n",
    "client"
   ]
  },
  {
   "cell_type": "markdown",
   "metadata": {},
   "source": [
    "## Decadal variability of WMT in OM4 hincast\n",
    "### Surface fluxes"
   ]
  },
  {
   "cell_type": "code",
   "execution_count": 5,
   "metadata": {},
   "outputs": [],
   "source": [
    "import xarray as xr\n",
    "import numpy as np\n",
    "from matplotlib import pyplot as plt\n",
    "from xgcm import Grid\n",
    "import glob\n",
    "import wmt_bgc.basic as wmt\n",
    "%matplotlib inline"
   ]
  },
  {
   "cell_type": "code",
   "execution_count": 6,
   "metadata": {},
   "outputs": [],
   "source": [
    "# Specifications for heat and salt budgets\n",
    "variables = {'heat':'tos','salt':'sos'}\n",
    "processes=['nonadvective flux','mass flux']\n",
    "terms = {}\n",
    "terms['heat'] = {'nonadvective flux':'hfds',\n",
    "         'mass flux': 'wfo'}\n",
    "terms['salt'] = {'nonadvective flux':'sfdsi',\n",
    "         'mass flux':'wfo'}\n",
    "# Additional variables to load\n",
    "extra = {}\n",
    "extra['surface'] = {'mass flux':'wfo'}\n",
    "extra['full'] = {'volume':'volcello'}"
   ]
  },
  {
   "cell_type": "code",
   "execution_count": 7,
   "metadata": {},
   "outputs": [
    {
     "name": "stdout",
     "output_type": "stream",
     "text": [
      "loading surface fluxes\n"
     ]
    }
   ],
   "source": [
    "# Load the data\n",
    "config = 'OM4p25_JRA55do1.4_0netfw_cycle6'\n",
    "rootdir = '/archive/Raphael.Dussin/xanadu_esm4_20190304_mom6_2019.08.08/'+config+'/gfdl.ncrc4-intel16-prod/pp/'\n",
    "years = '*'\n",
    "\n",
    "# Surface fluxes\n",
    "pp = 'ocean_monthly'\n",
    "localdir = '/ts/monthly/5yr/'\n",
    "filenames = []\n",
    "for variable in variables:\n",
    "    filenames.append(glob.glob(rootdir+pp+localdir+pp+'.'+years+'.'+variables[variable]+'.nc'))\n",
    "    for process in processes:\n",
    "        term = terms[variable][process]\n",
    "        if term is not None:\n",
    "            filenames.append(glob.glob(rootdir+pp+localdir+pp+'.'+years+'.'+term+'.nc'))\n",
    "print('loading surface fluxes')\n",
    "ds = xr.open_mfdataset(filenames)\n",
    "\n",
    "# Grid\n",
    "grid = xr.open_dataset(rootdir+pp+'/'+pp+'.static.nc')\n",
    "\n",
    "# # gamma_n\n",
    "# gammadir = '/archive/gam/so_decadal_variability/OM4p25_JRA55do1.4_0netfw_cycle6/'\n",
    "# localdir = '/'\n",
    "# ds = xr.merge([ds,xr.open_mfdataset(gammadir+pp+localdir+pp+'.'+years+'.gamma_n.nc')['gamma_n']])\n",
    "# ds['gamma_n'] = ds['gamma_n'].where(ds['gamma_n']>0,np.nan)\n",
    "\n",
    "# Specify some constants\n",
    "Cp = 3992.\n",
    "rho0 = 1035."
   ]
  },
  {
   "cell_type": "code",
   "execution_count": 8,
   "metadata": {},
   "outputs": [],
   "source": [
    "# Build an xgcm grid object\n",
    "# Create a Z dimension\n",
    "grid['z_l'] = np.array([2.5])#xr.DataArray(np.array([2.5]),dims=['z_l'],coords={'z_l':np.array([2.5])})\n",
    "grid['z_i'] = np.array([0,5])\n",
    "grid['dzt'] = xr.DataArray(np.array([5]),dims=['z_l'],coords={'z_l':grid['z_l']})\n",
    "# grid = grid.squeeze() # Get rid of any remnant time variables\n",
    "\n",
    "# Fill in nans with zeros\n",
    "grid['dxt'] = grid['dxt'].fillna(0.)\n",
    "grid['dyt'] = grid['dyt'].fillna(0.)\n",
    "grid['dzt'] = grid['dzt'].fillna(0.)\n",
    "grid['areacello'] = grid['areacello'].fillna(0.)\n",
    "grid['volcello'] = grid['areacello']*grid['dzt'].fillna(0.)\n",
    "metrics = {\n",
    "    ('X',): ['dxt','dxCu','dxCv'], # X distances\n",
    "    ('Y',): ['dyt','dyCu','dyCv'], # Y distances\n",
    "    ('Z',): ['dzt'], # Z distances\n",
    "    ('X', 'Y'): ['areacello'], # Areas\n",
    "    ('X', 'Y', 'Z'): ['volcello'], # Volumes\n",
    "}\n",
    "coords={'X': {'center': 'xh', 'right': 'xq'},\n",
    "        'Y': {'center': 'yh', 'right': 'yq'},\n",
    "        'Z': {'center': 'z_l', 'outer': 'z_i'} }\n",
    "xgrid = Grid(grid, coords=coords, metrics=metrics, periodic=['X'])"
   ]
  },
  {
   "cell_type": "code",
   "execution_count": 9,
   "metadata": {},
   "outputs": [],
   "source": [
    "# Place all the surface fluxes at the surface interface\n",
    "ds = ds.expand_dims({'z_l':grid['z_l']})"
   ]
  },
  {
   "cell_type": "markdown",
   "metadata": {},
   "source": [
    "### Prior calculations"
   ]
  },
  {
   "cell_type": "code",
   "execution_count": 10,
   "metadata": {},
   "outputs": [],
   "source": [
    "# Pressure from depth\n",
    "ds['p'] = wmt.gsw_p_from_z(-grid['z_l'][0],grid['geolat'])\n",
    "ds['alpha'] = wmt.gsw_alpha(ds['sos'],ds['tos'],ds['p'])\n",
    "ds['beta'] = wmt.gsw_beta(ds['sos'],ds['tos'],ds['p'])\n",
    "ds['sigma0'] = wmt.gsw_sigma0(ds['sos'],ds['tos'])\n",
    "\n",
    "# Tracer flux due to mass flux at ocean surface\n",
    "for variable in variables:\n",
    "    vari = variables[variable]\n",
    "    if variable=='heat':\n",
    "        Jlmass = ds[extra['surface']['mass flux']]*(ds[vari]-ds[vari])\n",
    "    elif variable=='salt':\n",
    "        Jlmass = ds[extra['surface']['mass flux']]*(ds[vari]-xr.zeros_like(ds[vari]))\n",
    "    ds[vari+'_massflux'] = Jlmass"
   ]
  },
  {
   "cell_type": "markdown",
   "metadata": {},
   "source": [
    "### Calculate $h\\dot{\\lambda}$ and $h\\dot{\\rho}$"
   ]
  },
  {
   "cell_type": "code",
   "execution_count": 11,
   "metadata": {},
   "outputs": [],
   "source": [
    "hldot={}\n",
    "hrhodot={}\n",
    "for variable in variables:\n",
    "    hldot[variable]=xr.Dataset()\n",
    "    hrhodot[variable]=xr.Dataset()\n",
    "    if variable=='heat':\n",
    "        drhodl = -ds['alpha']\n",
    "    elif variable=='salt':\n",
    "        drhodl = ds['beta']\n",
    "    vari = variables[variable]\n",
    "    for process in processes:\n",
    "        term = terms[variable][process]\n",
    "        if term is not None:\n",
    "            hldot[variable][process] = ds[term]\n",
    "            if variable=='salt': # Multiply by 1000 to convert to gkg-1\n",
    "                hldot[variable][process]*=1000\n",
    "            if variable=='heat': # Divide by Cp to get temperature tendency\n",
    "                hldot[variable][process]/=Cp\n",
    "            if process=='mass flux':\n",
    "                hldot[variable][process]=ds[vari+'_massflux']\n",
    "            hrhodot[variable][process] = drhodl*hldot[variable][process]\n",
    "\n",
    "# Sum up contributions to total tendency\n",
    "# This is hacky, necessarily assumes that process not present in salt present in heat\n",
    "hrhodot['total'] = xr.Dataset()\n",
    "for process in processes:\n",
    "    if process in hrhodot['heat'].data_vars:\n",
    "        hrhodot['total'][process]=hrhodot['heat'][process]\n",
    "    if process in hrhodot['salt'].data_vars:\n",
    "        hrhodot['total'][process]+=hrhodot['salt'][process]"
   ]
  },
  {
   "cell_type": "markdown",
   "metadata": {},
   "source": [
    "### Apply precursors, select subregion, and transform"
   ]
  },
  {
   "cell_type": "code",
   "execution_count": 12,
   "metadata": {},
   "outputs": [
    {
     "name": "stderr",
     "output_type": "stream",
     "text": [
      "/nbhome/gam/miniconda/envs/mom6-clean/lib/python3.8/site-packages/xgcm-0.4.0+18.ge0eae1e-py3.8.egg/xgcm/transform.py:227: FutureWarning: ``output_sizes`` should be given in the ``dask_gufunc_kwargs`` parameter. It will be removed as direct parameter in a future version.\n",
      "/nbhome/gam/miniconda/envs/mom6-clean/lib/python3.8/site-packages/xgcm-0.4.0+18.ge0eae1e-py3.8.egg/xgcm/transform.py:227: FutureWarning: ``output_sizes`` should be given in the ``dask_gufunc_kwargs`` parameter. It will be removed as direct parameter in a future version.\n",
      "/nbhome/gam/miniconda/envs/mom6-clean/lib/python3.8/site-packages/xgcm-0.4.0+18.ge0eae1e-py3.8.egg/xgcm/transform.py:227: FutureWarning: ``output_sizes`` should be given in the ``dask_gufunc_kwargs`` parameter. It will be removed as direct parameter in a future version.\n",
      "/nbhome/gam/miniconda/envs/mom6-clean/lib/python3.8/site-packages/xgcm-0.4.0+18.ge0eae1e-py3.8.egg/xgcm/transform.py:227: FutureWarning: ``output_sizes`` should be given in the ``dask_gufunc_kwargs`` parameter. It will be removed as direct parameter in a future version.\n",
      "/nbhome/gam/miniconda/envs/mom6-clean/lib/python3.8/site-packages/xgcm-0.4.0+18.ge0eae1e-py3.8.egg/xgcm/transform.py:227: FutureWarning: ``output_sizes`` should be given in the ``dask_gufunc_kwargs`` parameter. It will be removed as direct parameter in a future version.\n",
      "/nbhome/gam/miniconda/envs/mom6-clean/lib/python3.8/site-packages/xgcm-0.4.0+18.ge0eae1e-py3.8.egg/xgcm/transform.py:227: FutureWarning: ``output_sizes`` should be given in the ``dask_gufunc_kwargs`` parameter. It will be removed as direct parameter in a future version.\n"
     ]
    }
   ],
   "source": [
    "# bins\n",
    "bins=np.arange(26,28.5,0.1)\n",
    "ds['sigma0_i'] = xgrid.interp(ds['sigma0'],'Z',boundary='extend').chunk({'z_i': -1})\n",
    "ds['b'] = xr.ones_like(ds['sigma0']) # HACK\n",
    "# Select subregion\n",
    "selection = {'yh':slice(-90,-30)}\n",
    "ds_subregion = ds.sel(selection)\n",
    "# Precursors\n",
    "precursor = (ds_subregion['sigma0']+1000)*ds_subregion['b']\n",
    "\n",
    "#\n",
    "variables_now = ['heat','salt','total']\n",
    "\n",
    "hrhodot_on_gamma = {}\n",
    "for variable in variables_now:\n",
    "    hrhodot_subregion = hrhodot[variable].sel(selection)\n",
    "    hrhodot_on_gamma[variable]=xr.Dataset()\n",
    "    for process in processes:\n",
    "        if process in hrhodot_subregion.data_vars:\n",
    "            hrhodot_on_gamma[variable][process] = xgrid.transform(\n",
    "                precursor*hrhodot_subregion[process],'Z',target=bins,target_data=ds_subregion['sigma0_i'],method='conservative')"
   ]
  },
  {
   "cell_type": "markdown",
   "metadata": {},
   "source": [
    "### Calculate G"
   ]
  },
  {
   "cell_type": "code",
   "execution_count": 13,
   "metadata": {},
   "outputs": [],
   "source": [
    "G = {}\n",
    "for variable in variables_now:\n",
    "    G[variable] = xr.Dataset()\n",
    "    for process in processes:\n",
    "        if process in hrhodot_on_gamma[variable].data_vars:\n",
    "            G[variable][process] = (hrhodot_on_gamma[variable][process]*grid['areacello']).sum(['xh','yh'])/np.diff(bins)"
   ]
  },
  {
   "cell_type": "code",
   "execution_count": null,
   "metadata": {},
   "outputs": [],
   "source": [
    "%%time\n",
    "G.load()"
   ]
  },
  {
   "cell_type": "code",
   "execution_count": 14,
   "metadata": {},
   "outputs": [
    {
     "name": "stderr",
     "output_type": "stream",
     "text": [
      "/nbhome/gam/miniconda/envs/mom6-clean/lib/python3.8/site-packages/dask/array/numpy_compat.py:41: RuntimeWarning: invalid value encountered in true_divide\n",
      "  x = np.divide(x1, x2, out)\n",
      "/nbhome/gam/miniconda/envs/mom6-clean/lib/python3.8/site-packages/dask/array/numpy_compat.py:41: RuntimeWarning: invalid value encountered in true_divide\n",
      "  x = np.divide(x1, x2, out)\n",
      "/nbhome/gam/miniconda/envs/mom6-clean/lib/python3.8/site-packages/dask/array/numpy_compat.py:41: RuntimeWarning: invalid value encountered in true_divide\n",
      "  x = np.divide(x1, x2, out)\n"
     ]
    },
    {
     "name": "stdout",
     "output_type": "stream",
     "text": [
      "CPU times: user 25min 4s, sys: 28min 20s, total: 53min 25s\n",
      "Wall time: 12min 54s\n"
     ]
    }
   ],
   "source": [
    "%%time\n",
    "outdir = '/work/gam/projects/so_decadal_variability/data/processed/'+config+'/'\n",
    "for variable in variables_now:\n",
    "    G[variable].to_netcdf(outdir+'G_'+variable+'.nc')"
   ]
  },
  {
   "cell_type": "code",
   "execution_count": null,
   "metadata": {},
   "outputs": [],
   "source": []
  }
 ],
 "metadata": {
  "kernelspec": {
   "display_name": "Python 3",
   "language": "python",
   "name": "python3"
  },
  "language_info": {
   "codemirror_mode": {
    "name": "ipython",
    "version": 3
   },
   "file_extension": ".py",
   "mimetype": "text/x-python",
   "name": "python",
   "nbconvert_exporter": "python",
   "pygments_lexer": "ipython3",
   "version": "3.8.5"
  }
 },
 "nbformat": 4,
 "nbformat_minor": 4
}
