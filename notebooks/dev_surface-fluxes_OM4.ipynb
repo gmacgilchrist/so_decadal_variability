{
 "cells": [
  {
   "cell_type": "code",
   "execution_count": 1,
   "metadata": {},
   "outputs": [],
   "source": [
    "import xarray as xr\n",
    "import numpy as np\n",
    "from matplotlib import pyplot as plt\n",
    "from xhistogram.xarray import histogram\n",
    "%matplotlib inline"
   ]
  },
  {
   "cell_type": "code",
   "execution_count": null,
   "metadata": {},
   "outputs": [],
   "source": [
    "# Load the data\n",
    "# (from restart)\n",
    "config = 'OM4p25_JRA55do1.4_0netfw_cycle6'\n",
    "rootdir = '/archive/Raphael.Dussin/xanadu_esm4_20190304_mom6_2019.08.08/'+config+'/gfdl.ncrc4-intel16-prod/pp/'\n",
    "pp = 'ocean_monthly'\n",
    "localdir = '/ts/monthly/1yr/'\n",
    "filename = pp+'.*.nc'\n",
    "ds = xr.open_mfdataset(rootdir+pp+localdir+filename)\n",
    "grid = xr.open_dataset(rootdir+pp+'/'+pp+'.static.nc')\n",
    "# Specify some constants\n",
    "Cp = 3992.\n",
    "rho0 = 1035."
   ]
  }
 ],
 "metadata": {
  "kernelspec": {
   "display_name": "Python 3",
   "language": "python",
   "name": "python3"
  },
  "language_info": {
   "codemirror_mode": {
    "name": "ipython",
    "version": 3
   },
   "file_extension": ".py",
   "mimetype": "text/x-python",
   "name": "python",
   "nbconvert_exporter": "python",
   "pygments_lexer": "ipython3",
   "version": "3.8.5"
  }
 },
 "nbformat": 4,
 "nbformat_minor": 4
}
