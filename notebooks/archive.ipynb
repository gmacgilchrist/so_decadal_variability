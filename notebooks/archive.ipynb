{
 "cells": [
  {
   "cell_type": "code",
   "execution_count": null,
   "metadata": {},
   "outputs": [],
   "source": [
    "def calc_G(F,gamman,b,V,gn_edges):\n",
    "    Gint = xr.DataArray(np.zeros(shape=(gn_edges.size,F.time.size)),coords={'gn': gn_edges,'time': F.time},dims=['gn','time'])\n",
    "    gFbV = gamman*b*F*V\n",
    "    i=0\n",
    "    for g in gn_edges:\n",
    "        mask = gamman<g\n",
    "        Gint.loc[dict(gn=g)] = gFbV.where(mask,0).sum(dim=['lat','lon','depth'])\n",
    "        i+=1\n",
    "    G = Gint.differentiate('gn')\n",
    "    \n",
    "    return G"
   ]
  },
  {
   "cell_type": "code",
   "execution_count": null,
   "metadata": {},
   "outputs": [],
   "source": [
    "# Alternative, discrete volume calculation derived in Appendix 7.5 of Groeskamp et al (2018)\n",
    "def calc_G_alt(F,gamman,b,V,gn_edges):\n",
    "    gn_centres = (gn_edges[1:] + gn_edges[:-1]) / 2\n",
    "    dgn = np.diff(gn_edges)\n",
    "    G = xr.DataArray(np.zeros(shape=(gn_centres.size,F.time.size)),coords={'gn': gn_centres,'time': F.time},dims=['gn','time'])\n",
    "    gFbV = gamman*b*F*V\n",
    "    for i in range(gn_edges.size-1):\n",
    "        mask = (gamman>gn_edges[i]) & (gamman<gn_edges[i+1])\n",
    "        G.loc[dict(gn=gn_centres[i])] = gFbV.where(mask,0).sum(dim=['lat','lon','depth'],skipna=True)/dgn[i]\n",
    "    \n",
    "    return G"
   ]
  },
  {
   "cell_type": "code",
   "execution_count": null,
   "metadata": {},
   "outputs": [],
   "source": [
    "Gclim_vals=np.zeros(shape=(G.gamman_bin.size,12))\n",
    "for i in range(12):\n",
    "    indices = np.arange(i,np.diff(time_bnds),12)\n",
    "    Gclim_vals[:,i] = G.isel(time=indices).mean(dim='time')\n",
    "Gclim=xr.DataArray(np.tile(Gclim_vals,int(np.diff(time_bnds)/12)),coords={'gamman_bin':G.gamman_bin,'time':G.time},dims={'gamman_bin','time'})\n",
    "Gannualanom = (G-Gclim).coarsen(time=12).mean()\n",
    "Gannualanom.transpose().plot()"
   ]
  }
 ],
 "metadata": {
  "kernelspec": {
   "display_name": "Python 3",
   "language": "python",
   "name": "python3"
  },
  "language_info": {
   "codemirror_mode": {
    "name": "ipython",
    "version": 3
   },
   "file_extension": ".py",
   "mimetype": "text/x-python",
   "name": "python",
   "nbconvert_exporter": "python",
   "pygments_lexer": "ipython3",
   "version": "3.7.3"
  }
 },
 "nbformat": 4,
 "nbformat_minor": 4
}
