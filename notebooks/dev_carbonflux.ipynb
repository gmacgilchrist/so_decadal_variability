{
 "cells": [
  {
   "cell_type": "code",
   "execution_count": 75,
   "id": "789b0284-7d5f-4dbf-b942-67b8354ca216",
   "metadata": {},
   "outputs": [],
   "source": [
    "import xarray as xr\n",
    "import netCDF4 as nc\n",
    "import numpy as np\n",
    "import pandas as pd"
   ]
  },
  {
   "cell_type": "code",
   "execution_count": 87,
   "id": "e406f35c-a51c-4932-b4b1-ccd31b7f8771",
   "metadata": {},
   "outputs": [],
   "source": [
    "rootdir = '/local/data/MPI-SOM_FFN_SOCCOMv2018/'\n",
    "filename = 'MPI-SOM_FFN_SOCCOMv2018weighted_minus_4uatm_offset.nc'\n",
    "nds = nc.Dataset(rootdir+filename)\n",
    "# ds = xr.open_dataset(rootdir+filename)"
   ]
  },
  {
   "cell_type": "code",
   "execution_count": 90,
   "id": "b6888c96-24b1-4317-a8d6-ee8070667dd0",
   "metadata": {},
   "outputs": [
    {
     "name": "stderr",
     "output_type": "stream",
     "text": [
      "/home/aos/graemem/miniconda3/envs/so_decadal_variability/lib/python3.7/site-packages/ipykernel_launcher.py:3: UserWarning: WARNING: missing_value not used since it\n",
      "cannot be safely cast to variable data type\n",
      "  This is separate from the ipykernel package so we can avoid doing imports until\n"
     ]
    }
   ],
   "source": [
    "times = pd.date_range('1982-01-01','2017-12-31',freq='M')\n",
    "ds = xr.Dataset()\n",
    "ds['fgco2'] = xr.DataArray(nds['fgco2'][:],dims=['time','lat','lon'])\n",
    "ds['fgco2'] = ds['fgco2'].where(ds['fgco2']<1E19,np.nan)\n",
    "# ds['seamask'] = xr.DataArray(nds['seamask'][:],dims=['lat','lon'])\n",
    "ds = ds.assign_coords({'time':times,'lat':nds['lat'][:],'lon':nds['lon'][:]})"
   ]
  },
  {
   "cell_type": "code",
   "execution_count": 91,
   "id": "9c6dbf81-b953-437a-81b5-ba78f5eb0c8a",
   "metadata": {},
   "outputs": [],
   "source": [
    "from xgcm import Grid\n",
    "from xgcm.autogenerate import generate_grid_ds"
   ]
  },
  {
   "cell_type": "code",
   "execution_count": 82,
   "id": "31c82cf8-a092-46c9-bade-c9592a47c546",
   "metadata": {
    "tags": []
   },
   "outputs": [],
   "source": [
    "# Creating an xgcm grid\n",
    "def _degrees_to_meters(dlon, dlat, lon, lat):\n",
    "        \"\"\"Converts lat/lon differentials into distances in meters\n",
    "        PARAMETERS\n",
    "        ----------\n",
    "        dlon : xarray.DataArray longitude differentials\n",
    "        dlat : xarray.DataArray latitude differentials\n",
    "        lon  : xarray.DataArray longitude values\n",
    "        lat  : xarray.DataArray latitude values\n",
    "        RETURNS\n",
    "        -------\n",
    "        dx  : xarray.DataArray distance inferred from dlon\n",
    "        dy  : xarray.DataArray distance inferred from dlat\n",
    "        \"\"\"\n",
    "\n",
    "        distance_1deg_equator = 111000.0\n",
    "        dx = dlon * xr.ufuncs.cos(xr.ufuncs.deg2rad(lat)) * distance_1deg_equator\n",
    "        dy = ((lon * 0) + 1) * dlat * distance_1deg_equator\n",
    "        return dx, dy"
   ]
  },
  {
   "cell_type": "code",
   "execution_count": 97,
   "id": "02b25e57-6704-4857-834e-507322979c61",
   "metadata": {},
   "outputs": [],
   "source": [
    "gridlon='lon'\n",
    "gridlat='lat'\n",
    "ds = generate_grid_ds(ds, {'X':gridlon,'Y':gridlat})\n",
    "xgrid = Grid(ds, periodic=['X'])\n",
    "\n",
    "# Get horizontal distances\n",
    "dlonG = xgrid.diff(ds[gridlon], 'X', boundary_discontinuity=360)\n",
    "dlonC = xgrid.diff(ds[gridlon+'_left'], 'X', boundary_discontinuity=360)\n",
    "\n",
    "dlatG = xgrid.diff(ds[gridlat], 'Y', boundary='fill', fill_value=np.nan)\n",
    "dlatC = xgrid.diff(ds[gridlat+'_left'], 'Y', boundary='fill', fill_value=np.nan)\n",
    "\n",
    "ds['dxG'], ds['dyG'] = _degrees_to_meters(dlonG, dlatG, ds[gridlon], ds[gridlat])\n",
    "ds['dxC'], ds['dyC'] = _degrees_to_meters(dlonC, dlatC, ds[gridlon], ds[gridlat])\n",
    "\n",
    "ds['daC'] = ds['dxC']*ds['dyC']"
   ]
  },
  {
   "cell_type": "code",
   "execution_count": 102,
   "id": "a8eeb612-ae87-4388-8239-2107b38ecd44",
   "metadata": {},
   "outputs": [],
   "source": [
    "fgco2 = (ds['fgco2']*ds['daC']).sel(lat=slice(-90,-30)).sum(['lat','lon'])\n",
    "fgco2.name = 'fgco2'\n",
    "fgco2.to_netcdf('../data/processed/MPI-SOM_FFN_SOCCOMv2018/fgco2_SO_int.nc')"
   ]
  },
  {
   "cell_type": "code",
   "execution_count": 72,
   "id": "b7fa2921-aa93-4276-92d8-197bb4127690",
   "metadata": {},
   "outputs": [
    {
     "ename": "TypeError",
     "evalue": "unsupported type for timedelta seconds component: numpy.int32",
     "output_type": "error",
     "traceback": [
      "\u001b[0;31m---------------------------------------------------------------------------\u001b[0m",
      "\u001b[0;31mTypeError\u001b[0m                                 Traceback (most recent call last)",
      "\u001b[0;32m<ipython-input-72-ae0a70570315>\u001b[0m in \u001b[0;36m<module>\u001b[0;34m\u001b[0m\n\u001b[0;32m----> 1\u001b[0;31m \u001b[0;34m[\u001b[0m\u001b[0mdatetime\u001b[0m\u001b[0;34m.\u001b[0m\u001b[0mdatetime\u001b[0m\u001b[0;34m(\u001b[0m\u001b[0;36m2000\u001b[0m\u001b[0;34m,\u001b[0m\u001b[0;36m1\u001b[0m\u001b[0;34m,\u001b[0m\u001b[0;36m1\u001b[0m\u001b[0;34m)\u001b[0m \u001b[0;34m+\u001b[0m \u001b[0mdatetime\u001b[0m\u001b[0;34m.\u001b[0m\u001b[0mtimedelta\u001b[0m\u001b[0;34m(\u001b[0m\u001b[0mseconds\u001b[0m\u001b[0;34m=\u001b[0m\u001b[0meach\u001b[0m\u001b[0;34m)\u001b[0m \u001b[0;32mfor\u001b[0m \u001b[0meach\u001b[0m \u001b[0;32min\u001b[0m \u001b[0mds\u001b[0m\u001b[0;34m[\u001b[0m\u001b[0;34m'time'\u001b[0m\u001b[0;34m]\u001b[0m\u001b[0;34m[\u001b[0m\u001b[0;34m:\u001b[0m\u001b[0;34m]\u001b[0m\u001b[0;34m]\u001b[0m\u001b[0;34m\u001b[0m\u001b[0;34m\u001b[0m\u001b[0m\n\u001b[0m\u001b[1;32m      2\u001b[0m \u001b[0;31m# ds['time']\u001b[0m\u001b[0;34m\u001b[0m\u001b[0;34m\u001b[0m\u001b[0;34m\u001b[0m\u001b[0m\n",
      "\u001b[0;32m<ipython-input-72-ae0a70570315>\u001b[0m in \u001b[0;36m<listcomp>\u001b[0;34m(.0)\u001b[0m\n\u001b[0;32m----> 1\u001b[0;31m \u001b[0;34m[\u001b[0m\u001b[0mdatetime\u001b[0m\u001b[0;34m.\u001b[0m\u001b[0mdatetime\u001b[0m\u001b[0;34m(\u001b[0m\u001b[0;36m2000\u001b[0m\u001b[0;34m,\u001b[0m\u001b[0;36m1\u001b[0m\u001b[0;34m,\u001b[0m\u001b[0;36m1\u001b[0m\u001b[0;34m)\u001b[0m \u001b[0;34m+\u001b[0m \u001b[0mdatetime\u001b[0m\u001b[0;34m.\u001b[0m\u001b[0mtimedelta\u001b[0m\u001b[0;34m(\u001b[0m\u001b[0mseconds\u001b[0m\u001b[0;34m=\u001b[0m\u001b[0meach\u001b[0m\u001b[0;34m)\u001b[0m \u001b[0;32mfor\u001b[0m \u001b[0meach\u001b[0m \u001b[0;32min\u001b[0m \u001b[0mds\u001b[0m\u001b[0;34m[\u001b[0m\u001b[0;34m'time'\u001b[0m\u001b[0;34m]\u001b[0m\u001b[0;34m[\u001b[0m\u001b[0;34m:\u001b[0m\u001b[0;34m]\u001b[0m\u001b[0;34m]\u001b[0m\u001b[0;34m\u001b[0m\u001b[0;34m\u001b[0m\u001b[0m\n\u001b[0m\u001b[1;32m      2\u001b[0m \u001b[0;31m# ds['time']\u001b[0m\u001b[0;34m\u001b[0m\u001b[0;34m\u001b[0m\u001b[0;34m\u001b[0m\u001b[0m\n",
      "\u001b[0;31mTypeError\u001b[0m: unsupported type for timedelta seconds component: numpy.int32"
     ]
    }
   ],
   "source": [
    "[datetime.datetime(2000,1,1) + datetime.timedelta(seconds=each) for each in ds['time'][:]]\n",
    "# ds['time']"
   ]
  },
  {
   "cell_type": "code",
   "execution_count": 104,
   "id": "4cca4ed2-8a5f-4967-bac1-961532129ff1",
   "metadata": {},
   "outputs": [
    {
     "data": {
      "text/plain": [
       "<class 'netCDF4._netCDF4.Variable'>\n",
       "float32 fgco2(time, lat, lon)\n",
       "    long_name: air-sea CO2 flux\n",
       "    standard_name: air-sea CO2 flux\n",
       "    units: mol/m2/yr\n",
       "    FillValue: 1e+20\n",
       "    missing_value: 1e+20\n",
       "unlimited dimensions: \n",
       "current shape = (432, 180, 360)\n",
       "filling on, default _FillValue of 9.969209968386869e+36 used"
      ]
     },
     "execution_count": 104,
     "metadata": {},
     "output_type": "execute_result"
    }
   ],
   "source": [
    "nds['fgco2']"
   ]
  },
  {
   "cell_type": "code",
   "execution_count": 98,
   "id": "25640dd9-7ff9-4536-b713-74bc8d3ee2c8",
   "metadata": {},
   "outputs": [
    {
     "data": {
      "text/plain": [
       "<matplotlib.collections.QuadMesh at 0x7f1513fded10>"
      ]
     },
     "execution_count": 98,
     "metadata": {},
     "output_type": "execute_result"
    },
    {
     "data": {
      "image/png": "[encoded data removed]",
      "text/plain": [
       "<Figure size 432x288 with 2 Axes>"
      ]
     },
     "metadata": {
      "needs_background": "light"
     },
     "output_type": "display_data"
    }
   ],
   "source": [
    "ds['daC'].plot()"
   ]
  },
  {
   "cell_type": "code",
   "execution_count": null,
   "id": "f99eaf0a-41b6-4103-b740-d3b889929ef8",
   "metadata": {},
   "outputs": [],
   "source": []
  }
 ],
 "metadata": {
  "kernelspec": {
   "display_name": "Python [conda env:so_decadal_variability]",
   "language": "python",
   "name": "conda-env-so_decadal_variability-py"
  },
  "language_info": {
   "codemirror_mode": {
    "name": "ipython",
    "version": 3
   },
   "file_extension": ".py",
   "mimetype": "text/x-python",
   "name": "python",
   "nbconvert_exporter": "python",
   "pygments_lexer": "ipython3",
   "version": "3.7.10"
  }
 },
 "nbformat": 4,
 "nbformat_minor": 5
}
