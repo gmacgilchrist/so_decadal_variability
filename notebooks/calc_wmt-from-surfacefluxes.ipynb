{
 "cells": [
  {
   "cell_type": "markdown",
   "metadata": {},
   "source": [
    "## Calculate surface-forced watermass transformation\n",
    "Presently, information about the products, e.g. names of variables is hard-coded. Could improve robustness by specifying generic names."
   ]
  },
  {
   "cell_type": "code",
   "execution_count": 13,
   "metadata": {},
   "outputs": [
    {
     "name": "stdout",
     "output_type": "stream",
     "text": [
      "The autoreload extension is already loaded. To reload it, use:\n",
      "  %reload_ext autoreload\n"
     ]
    }
   ],
   "source": [
    "%load_ext autoreload\n",
    "%autoreload 2\n",
    "from dask.diagnostics import ProgressBar\n",
    "import so_decadal_variability.process as process\n",
    "import so_decadal_variability.grid as sogrid\n",
    "import so_decadal_variability.wmt as wmt\n",
    "import numpy as np"
   ]
  },
  {
   "cell_type": "code",
   "execution_count": 16,
   "metadata": {},
   "outputs": [
    {
     "name": "stdout",
     "output_type": "stream",
     "text": [
      "[########################################] | 100% Completed | 36.4s\n"
     ]
    }
   ],
   "source": [
    "fluxname='merra2'\n",
    "oceanname='en4'\n",
    "timeslice = slice('1980','2018')\n",
    "dg = 0.1\n",
    "gn_edges = np.arange(1026,1028.5,dg)\n",
    "save = True\n",
    "ds = process.loaddata(fluxname,oceanname,timeslice)\n",
    "ds, xgrid = sogrid.get_xgcm(ds)\n",
    "G = wmt.calc_watermasstransformation(ds,xgrid,gn_edges)\n",
    "if save:\n",
    "    with ProgressBar():\n",
    "        G.to_netcdf('../data/processed/'+fluxname+'_'+oceanname+'/G_'+str(dg)+'.nc')"
   ]
  },
  {
   "cell_type": "code",
   "execution_count": null,
   "metadata": {},
   "outputs": [],
   "source": []
  }
 ],
 "metadata": {
  "kernelspec": {
   "display_name": "Python 3",
   "language": "python",
   "name": "python3"
  },
  "language_info": {
   "codemirror_mode": {
    "name": "ipython",
    "version": 3
   },
   "file_extension": ".py",
   "mimetype": "text/x-python",
   "name": "python",
   "nbconvert_exporter": "python",
   "pygments_lexer": "ipython3",
   "version": "3.8.5"
  }
 },
 "nbformat": 4,
 "nbformat_minor": 4
}
