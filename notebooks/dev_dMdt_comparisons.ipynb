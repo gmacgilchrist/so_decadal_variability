{
 "cells": [
  {
   "cell_type": "code",
   "execution_count": 1,
   "metadata": {},
   "outputs": [],
   "source": [
    "import xarray as xr\n",
    "import pandas as pd\n",
    "import numpy as np\n",
    "import matplotlib.pyplot as plt\n",
    "import so_decadal_variability.calc as socalc\n",
    "plt.rcParams['pcolor.shading']='auto'"
   ]
  },
  {
   "cell_type": "code",
   "execution_count": 4,
   "metadata": {},
   "outputs": [],
   "source": [
    "dMdt = {}\n",
    "# Load observational data\n",
    "oceannames=['en4']\n",
    "dg = 0.1\n",
    "for oceanname in oceannames:\n",
    "    dMdt[oceanname] = xr.open_dataset('../data/processed/'+oceanname+'/dMdt_'+str(dg)+'.nc')"
   ]
  },
  {
   "cell_type": "code",
   "execution_count": 5,
   "metadata": {},
   "outputs": [
    {
     "data": {
      "text/plain": [
       "{'en4': <xarray.Dataset>\n",
       " Dimensions:     (gamman_bin: 24, time: 479)\n",
       " Coordinates:\n",
       "   * time        (time) datetime64[ns] 1979-01-31T06:00:00 ... 2018-12-01T06:0...\n",
       "   * gamman_bin  (gamman_bin) float64 1.026e+03 1.026e+03 ... 1.028e+03 1.028e+03\n",
       " Data variables:\n",
       "     dMdt        (time, gamman_bin) float64 ...}"
      ]
     },
     "execution_count": 5,
     "metadata": {},
     "output_type": "execute_result"
    }
   ],
   "source": [
    "fig,ax = plt.plot(dMdt[]"
   ]
  },
  {
   "cell_type": "code",
   "execution_count": null,
   "metadata": {},
   "outputs": [],
   "source": []
  }
 ],
 "metadata": {
  "kernelspec": {
   "display_name": "Python 3",
   "language": "python",
   "name": "python3"
  },
  "language_info": {
   "codemirror_mode": {
    "name": "ipython",
    "version": 3
   },
   "file_extension": ".py",
   "mimetype": "text/x-python",
   "name": "python",
   "nbconvert_exporter": "python",
   "pygments_lexer": "ipython3",
   "version": "3.7.9"
  }
 },
 "nbformat": 4,
 "nbformat_minor": 4
}
