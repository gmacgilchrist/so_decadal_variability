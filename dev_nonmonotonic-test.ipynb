{
 "cells": [
  {
   "cell_type": "markdown",
   "metadata": {},
   "source": [
    "### Test simple transform for nonmonotonic tracer"
   ]
  },
  {
   "cell_type": "code",
   "execution_count": 1,
   "metadata": {},
   "outputs": [],
   "source": [
    "import numpy as np"
   ]
  },
  {
   "cell_type": "code",
   "execution_count": 34,
   "metadata": {},
   "outputs": [],
   "source": [
    "# Set up a simple vertical grid with nonmonotonic temperature\n",
    "z_i = np.array([0,20,40,60,80,100])\n",
    "z_l = np.array([10,30,50,70,90])\n",
    "h = np.diff(z_i)"
   ]
  },
  {
   "cell_type": "markdown",
   "metadata": {},
   "source": [
    "## Define tracers at the cell centers"
   ]
  },
  {
   "cell_type": "code",
   "execution_count": 35,
   "metadata": {},
   "outputs": [],
   "source": [
    "# Temperature on the mid-points\n",
    "T = np.array([2,4,6,4,2])\n",
    "# Tracer value on the mid-points\n",
    "c = np.array([100,110,120,130,140])"
   ]
  },
  {
   "cell_type": "code",
   "execution_count": 36,
   "metadata": {},
   "outputs": [],
   "source": [
    "# Determine thickness and extensive quantities\n",
    "ch = c*h"
   ]
  },
  {
   "cell_type": "markdown",
   "metadata": {},
   "source": [
    "#### Case 1: target temperature levels don't split cells, and no extrapolation"
   ]
  },
  {
   "cell_type": "code",
   "execution_count": 29,
   "metadata": {},
   "outputs": [],
   "source": [
    "T_t = np.array([3,5,7])"
   ]
  },
  {
   "cell_type": "code",
   "execution_count": 30,
   "metadata": {},
   "outputs": [],
   "source": [
    "# With linear interpolation, the target temperature levels fall exactly on the cell interfaces\n",
    "z_t = np.array([[20,80],[40,60]]) # Unsure how to express this for multiple target depths\n",
    "# In that case, this is simply a binning exercise and...\n",
    "ch_transformed = np.array([4800,2400])\n",
    "h_transformed = np.array([40,20])\n",
    "c_transformed = ch_transformed/h_transformed"
   ]
  },
  {
   "cell_type": "markdown",
   "metadata": {},
   "source": [
    "#### Case 2: target temperature levels split cells evenly, no extrapolation"
   ]
  },
  {
   "cell_type": "code",
   "execution_count": 31,
   "metadata": {},
   "outputs": [],
   "source": [
    "T_t = np.array([2,4,6])"
   ]
  },
  {
   "cell_type": "code",
   "execution_count": 32,
   "metadata": {},
   "outputs": [],
   "source": [
    "# The target temperature levels fall exactly on the cell mid-points\n",
    "z_t = np.array([[10,90],[30,70],[50,np.nan]])\n",
    "# In that case, the cells are split evenly and binned...\n",
    "ch_transformed = np.array([0.5*2000+0.5*2200+0.5*2600+0.5*2800, 0.5*2200+2400+0.5*2600])\n",
    "h_transformed = np.array([40,40])\n",
    "c_transformed = ch_transformed/h_transformed"
   ]
  },
  {
   "cell_type": "markdown",
   "metadata": {},
   "source": [
    "## Define tracers at the cell bounds"
   ]
  },
  {
   "cell_type": "code",
   "execution_count": 37,
   "metadata": {},
   "outputs": [],
   "source": [
    "# Temperature at the bounds\n",
    "T_i = np.array([1,3,5,7,5,3])\n",
    "# Tracer value at the bounds\n",
    "c_i = np.array([100,120,140,160,180,200])\n",
    "# Get tracer content in each cell\n",
    "c = 0.5*(c_i[1:]+c_i[:-1])\n",
    "ch = c*h"
   ]
  },
  {
   "cell_type": "markdown",
   "metadata": {},
   "source": [
    "#### Case 1: target temperatures don't split cells, no extrapolation"
   ]
  },
  {
   "cell_type": "code",
   "execution_count": 41,
   "metadata": {},
   "outputs": [],
   "source": [
    "T_t = np.array([1,3,5,7])\n",
    "# Again, this is just a binning exercise\n",
    "ch_transformed = np.array([2200, 2600+3800, 3000+3400])\n",
    "h_transformed = np.array([20,40,40])\n",
    "c_transformed = ch_transformed/h_transformed"
   ]
  },
  {
   "cell_type": "markdown",
   "metadata": {},
   "source": [
    "#### Case 2: target temperatures split cells evenly, no extrapolation, not including top of range"
   ]
  },
  {
   "cell_type": "code",
   "execution_count": 45,
   "metadata": {},
   "outputs": [],
   "source": [
    "T_t = np.array([2,4,6])\n",
    "# Note that in this case, just half of the bottom cell is picked up for the first bin\n",
    "ch_transformed = np.array([0.5*2200 + 0.5*2600 + 0.5*3800,\n",
    "                          0.5*2600 + 0.5*3000 + 0.5* 3400 + 0.5*3800])\n",
    "h_transformed = np.array([30,40])\n",
    "c_transformed = ch_transformed/h_transformed"
   ]
  },
  {
   "cell_type": "markdown",
   "metadata": {},
   "source": [
    "#### Case 3: target temperatures split cells evenly, no extrapolation, including full temperature range"
   ]
  },
  {
   "cell_type": "code",
   "execution_count": 46,
   "metadata": {},
   "outputs": [],
   "source": [
    "T_t = np.array([0,2,4,6,8])\n",
    "ch_transformed = np.array([0.5*2200,\n",
    "                          0.5*2200+0.5*2600+0.5*3800,\n",
    "                          0.5*2600+0.5*3000+0.5*3400+0.5*3800,\n",
    "                          0.5*3000+0.5*3400])\n",
    "h_transformed = np.array([10,30,40,20])"
   ]
  },
  {
   "cell_type": "code",
   "execution_count": null,
   "metadata": {},
   "outputs": [],
   "source": []
  }
 ],
 "metadata": {
  "kernelspec": {
   "display_name": "Python 3",
   "language": "python",
   "name": "python3"
  },
  "language_info": {
   "codemirror_mode": {
    "name": "ipython",
    "version": 3
   },
   "file_extension": ".py",
   "mimetype": "text/x-python",
   "name": "python",
   "nbconvert_exporter": "python",
   "pygments_lexer": "ipython3",
   "version": "3.7.7"
  }
 },
 "nbformat": 4,
 "nbformat_minor": 4
}
