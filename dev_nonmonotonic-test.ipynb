{
 "cells": [
  {
   "cell_type": "markdown",
   "metadata": {},
   "source": [
    "### Test simple transform for nonmonotonic tracer"
   ]
  },
  {
   "cell_type": "code",
   "execution_count": 1,
   "metadata": {},
   "outputs": [],
   "source": [
    "import numpy as np"
   ]
  },
  {
   "cell_type": "code",
   "execution_count": 2,
   "metadata": {},
   "outputs": [],
   "source": [
    "# Set up a simple vertical grid with nonmonotonic temperature\n",
    "z_i = np.array([0,20,40,60,80,100])\n",
    "z_l = np.array([10,30,50,70,90])\n",
    "# Temperature on the mid-points\n",
    "T = np.array([2,4,6,4,2])\n",
    "# Tracer value on the mid-points\n",
    "c = np.array([100,110,120,130,140])"
   ]
  },
  {
   "cell_type": "code",
   "execution_count": 5,
   "metadata": {},
   "outputs": [],
   "source": [
    "# Determine thickness and extensive quantities\n",
    "h = np.diff(z_i)\n",
    "ch = c*h"
   ]
  },
  {
   "cell_type": "markdown",
   "metadata": {},
   "source": [
    "#### Case 1: target temperature levels don't split cells, and no extrapolation"
   ]
  },
  {
   "cell_type": "code",
   "execution_count": 7,
   "metadata": {},
   "outputs": [],
   "source": [
    "T_t = np.array([3,5,7])"
   ]
  },
  {
   "cell_type": "code",
   "execution_count": 19,
   "metadata": {},
   "outputs": [],
   "source": [
    "# With linear interpolation, the target temperature levels fall exactly on the cell interfaces\n",
    "z_t = np.array([[20,80],[40,60]]) # Unsure how to express this for multiple target depths\n",
    "# In that case, this is simply a binning exercise and...\n",
    "ch_transformed = np.array([4800,2400])\n",
    "h_transformed = np.array([40,20])\n",
    "c_transformed = ch_transformed/h_transformed"
   ]
  },
  {
   "cell_type": "markdown",
   "metadata": {},
   "source": [
    "#### Case 2: target temperature levels split cells evenly, no extrapolation"
   ]
  },
  {
   "cell_type": "code",
   "execution_count": 12,
   "metadata": {},
   "outputs": [],
   "source": [
    "T_t = np.array([2,4,6])"
   ]
  },
  {
   "cell_type": "code",
   "execution_count": 20,
   "metadata": {},
   "outputs": [],
   "source": [
    "# The target temperature levels fall exactly on the cell mid-points\n",
    "z_t = np.array([[10,90],[30,70],[50,np.nan]])\n",
    "# In that case, the cells are split evenly and binned...\n",
    "ch_transformed = np.array([0.5*2000+0.5*2200+0.5*2600+0.5*2800, 0.5*2200+2400+0.5*2600])\n",
    "h_transformed = np.array([40,40])\n",
    "c_transformed = ch_transformed/h_transformed"
   ]
  },
  {
   "cell_type": "code",
   "execution_count": null,
   "metadata": {},
   "outputs": [],
   "source": []
  }
 ],
 "metadata": {
  "kernelspec": {
   "display_name": "Python 3",
   "language": "python",
   "name": "python3"
  },
  "language_info": {
   "codemirror_mode": {
    "name": "ipython",
    "version": 3
   },
   "file_extension": ".py",
   "mimetype": "text/x-python",
   "name": "python",
   "nbconvert_exporter": "python",
   "pygments_lexer": "ipython3",
   "version": "3.7.7"
  }
 },
 "nbformat": 4,
 "nbformat_minor": 4
}
