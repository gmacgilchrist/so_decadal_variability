{
 "cells": [
  {
   "cell_type": "markdown",
   "metadata": {},
   "source": [
    "### Calculate neutral density in OM4 output"
   ]
  },
  {
   "cell_type": "code",
   "execution_count": 83,
   "metadata": {},
   "outputs": [],
   "source": [
    "import xarray as xr\n",
    "import numpy as np\n",
    "from pygamma import gamma_n\n",
    "import gsw\n",
    "import wmt_bgc.basic as wmt\n",
    "import matplotlib.pyplot as plt\n",
    "from numba import jit"
   ]
  },
  {
   "cell_type": "code",
   "execution_count": 84,
   "metadata": {},
   "outputs": [],
   "source": [
    "# Load the data\n",
    "# (from restart)\n",
    "rootdir = '/archive/Raphael.Dussin/xanadu_esm4_20190304_mom6_2019.08.08/OM4p25_JRA55do1.4_0netfw_cycle6/gfdl.ncrc4-intel16-prod/pp/'\n",
    "pp = 'ocean_annual_z'\n",
    "localdir = '/ts/annual/5yr/'\n",
    "filename = pp+'.201*.nc'\n",
    "ds = xr.open_mfdataset(rootdir+pp+localdir+filename)\n",
    "grid = xr.open_dataset(rootdir+pp+'/'+pp+'.static.nc')"
   ]
  },
  {
   "cell_type": "code",
   "execution_count": 85,
   "metadata": {},
   "outputs": [],
   "source": [
    "dsnow = ds.transpose('xh','yh','z_l','time','nv','xq','yq','z_i').isel(time=0)\n",
    "gridnow = grid\n",
    "\n",
    "s = dsnow['so'].values\n",
    "t = dsnow['thetao'].values\n",
    "p = wmt.gsw_p_from_z(-1*dsnow['z_l'],gridnow['geolat']).transpose('xh','yh','z_l').values\n",
    "lon = gridnow['geolon'].where(gridnow['geolon']>0,gridnow['geolon']+360).transpose('xh','yh').values\n",
    "lat = gridnow['geolat'].transpose('xh','yh').values"
   ]
  },
  {
   "cell_type": "code",
   "execution_count": 96,
   "metadata": {},
   "outputs": [],
   "source": [
    "def _calc_gamma(s,t,p,lon,lat):\n",
    "    gamma = np.zeros(shape=s.shape)\n",
    "    for j in range(len(s[0,:,0])):\n",
    "        if np.mod(j,100)==0:\n",
    "            print(j)\n",
    "        gamma[:,j,:],dg_hi,dg_lo = gamma_n(s[:,j,:],t[:,j,:],p[:,j,:],lon[:,j],lat[:,j])\n",
    "    return gamma"
   ]
  },
  {
   "cell_type": "code",
   "execution_count": 97,
   "metadata": {},
   "outputs": [
    {
     "name": "stdout",
     "output_type": "stream",
     "text": [
      "0\n",
      "100\n",
      "200\n",
      "300\n",
      "400\n",
      "500\n",
      "600\n",
      "700\n",
      "800\n",
      "900\n",
      "1000\n",
      "CPU times: user 14min 21s, sys: 4.58 s, total: 14min 26s\n",
      "Wall time: 14min 45s\n"
     ]
    }
   ],
   "source": [
    "%time gamma = _calc_gamma(s,t,p,lon,lat)"
   ]
  },
  {
   "cell_type": "code",
   "execution_count": 100,
   "metadata": {},
   "outputs": [
    {
     "data": {
      "text/plain": [
       "<matplotlib.colorbar.Colorbar at 0x2b317acadf40>"
      ]
     },
     "execution_count": 100,
     "metadata": {},
     "output_type": "execute_result"
    },
    {
     "data": {
      "image/png": "[encoded data removed]",
      "text/plain": [
       "<Figure size 432x288 with 2 Axes>"
      ]
     },
     "metadata": {
      "needs_background": "light"
     },
     "output_type": "display_data"
    }
   ],
   "source": [
    "im = plt.pcolormesh(gamma[600,:,:],vmin=20)\n",
    "plt.colorbar(im)"
   ]
  },
  {
   "cell_type": "code",
   "execution_count": 20,
   "metadata": {},
   "outputs": [],
   "source": [
    "def xr_gamma(s,t,p,lon,lat):\n",
    "    return xr.apply_ufunc(pygamma.gamma_n,\n",
    "                         s,t,p,lon,lat,\n",
    "                         dask='parallelized',output_dtypes=[s.dtype])"
   ]
  },
  {
   "cell_type": "code",
   "execution_count": 73,
   "metadata": {},
   "outputs": [
    {
     "data": {
      "text/plain": [
       "(1440, 1080, 35)"
      ]
     },
     "execution_count": 73,
     "metadata": {},
     "output_type": "execute_result"
    }
   ],
   "source": [
    "np.ufunc()"
   ]
  },
  {
   "cell_type": "code",
   "execution_count": null,
   "metadata": {},
   "outputs": [],
   "source": []
  }
 ],
 "metadata": {
  "kernelspec": {
   "display_name": "Python 3",
   "language": "python",
   "name": "python3"
  },
  "language_info": {
   "codemirror_mode": {
    "name": "ipython",
    "version": 3
   },
   "file_extension": ".py",
   "mimetype": "text/x-python",
   "name": "python",
   "nbconvert_exporter": "python",
   "pygments_lexer": "ipython3",
   "version": "3.8.5"
  }
 },
 "nbformat": 4,
 "nbformat_minor": 4
}
