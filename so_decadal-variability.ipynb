{
 "cells": [
  {
   "cell_type": "markdown",
   "metadata": {},
   "source": [
    "## Southern Ocean decadal variability\n",
    "\n",
    "Assess the decadal variability of water mass transformation in the Southern Ocean, and relate it to changes in the overturning circulation."
   ]
  },
  {
   "cell_type": "code",
   "execution_count": 1,
   "metadata": {},
   "outputs": [],
   "source": [
    "import xarray as xr\n",
    "import numpy as np\n",
    "import gsw\n",
    "from matplotlib import pyplot as plt\n",
    "%matplotlib inline"
   ]
  },
  {
   "cell_type": "markdown",
   "metadata": {},
   "source": [
    "### Load the data"
   ]
  },
  {
   "cell_type": "code",
   "execution_count": 2,
   "metadata": {},
   "outputs": [],
   "source": [
    "# Grid data\n",
    "vol4d = xr.open_dataset('~/so_decadal_variability/grid/SO_grid_vol4d_woa2018.nc',decode_times=False)#.isel(time=0)\n",
    "grid = vol4d\n",
    "dz = grid.depth_bnds.diff(dim='bnds')\n",
    "# WOA hydrography decadal means\n",
    "ct_WOA = xr.open_dataset('~/so_decadal_variability/ocean/SO_ocean_ct_woa2018_1981-2010.nc',decode_times=False)#.isel(time=[0,12])\n",
    "sa_WOA = xr.open_dataset('~/so_decadal_variability/ocean/SO_ocean_sa_woa2018_1981-2010.nc',decode_times=False)#.isel(time=0)\n",
    "gamman_WOA = xr.open_dataset('~/so_decadal_variability/ocean/SO_ocean_gamman_woa2018_1981-2010.nc',decode_times=False)#.isel(time=0)\n",
    "alpha_WOA = xr.open_dataset('~/so_decadal_variability/ocean/SO_ocean_alpha_woa2018_1981-2010.nc',decode_times=False)#.isel(time=0)\n",
    "beta_WOA = xr.open_dataset('~/so_decadal_variability/ocean/SO_ocean_beta_woa2018_1981-2010.nc',decode_times=False)#.isel(time=0)\n",
    "# Merge\n",
    "hydro_WOA = xr.merge([ct_WOA,sa_WOA,gamman_WOA,alpha_WOA,beta_WOA])\n",
    "# Heat and freshwater flux\n",
    "Q_ERA = -xr.open_dataset('~/so_decadal_variability/flux/SO_flux_ht_erai_1979-2018.nc').isel(time=range(360))\n",
    "Qsw_ERA = -xr.open_dataset('~/so_decadal_variability/flux/SO_flux_sr_erai_1979-2018.nc').isel(time=range(360))\n",
    "FW_ERA = xr.open_dataset('~/so_decadal_variability/flux/SO_flux_fw_erai_1979-2018.nc').isel(time=range(360))\n",
    "\n",
    "# Set to have the same time\n",
    "hydro_WOA = hydro_WOA.assign_coords(time=Q_ERA.time[0:12])\n",
    "grid = grid.assign_coords(time=Q_ERA.time[0:12])"
   ]
  },
  {
   "cell_type": "code",
   "execution_count": 3,
   "metadata": {},
   "outputs": [],
   "source": [
    "# Extend climatology\n",
    "ct_WOA = xr.DataArray(np.tile(ct_WOA.ct,(30,1,1,1)),coords={'time':Q_ERA.time,'depth':hydro_WOA.depth,'lat':Q_ERA.lat,'lon':Q_ERA.lon},dims=['time','depth','lat','lon'])\n",
    "ct_WOA.name = 'ct'\n",
    "sa_WOA = xr.DataArray(np.tile(sa_WOA.sa,(30,1,1,1)),coords={'time':Q_ERA.time,'depth':hydro_WOA.depth,'lat':Q_ERA.lat,'lon':Q_ERA.lon},dims=['time','depth','lat','lon'])\n",
    "sa_WOA.name = 'sa'\n",
    "gamman_WOA = xr.DataArray(np.tile(gamman_WOA.gamman,(30,1,1,1)),coords={'time':Q_ERA.time,'depth':hydro_WOA.depth,'lat':Q_ERA.lat,'lon':Q_ERA.lon},dims=['time','depth','lat','lon'])\n",
    "gamman_WOA.name = 'gamman'\n",
    "alpha_WOA = xr.DataArray(np.tile(alpha_WOA.alpha,(30,1,1,1)),coords={'time':Q_ERA.time,'depth':hydro_WOA.depth,'lat':Q_ERA.lat,'lon':Q_ERA.lon},dims=['time','depth','lat','lon'])\n",
    "alpha_WOA.name = 'alpha'\n",
    "beta_WOA = xr.DataArray(np.tile(beta_WOA.beta,(30,1,1,1)),coords={'time':Q_ERA.time,'depth':hydro_WOA.depth,'lat':Q_ERA.lat,'lon':Q_ERA.lon},dims=['time','depth','lat','lon'])\n",
    "beta_WOA.name = 'beta'\n",
    "hydro_WOA = xr.merge([ct_WOA,sa_WOA,gamman_WOA,alpha_WOA,beta_WOA])"
   ]
  },
  {
   "cell_type": "code",
   "execution_count": 4,
   "metadata": {},
   "outputs": [],
   "source": [
    "vol4d = xr.DataArray(np.tile(grid.vol4d,(30,1,1,1)),coords={'time':Q_ERA.time,'depth':hydro_WOA.depth,'lat':Q_ERA.lat,'lon':Q_ERA.lon},dims=['time','depth','lat','lon'])\n",
    "vol4d.name = 'vol4d'"
   ]
  },
  {
   "cell_type": "code",
   "execution_count": 5,
   "metadata": {},
   "outputs": [],
   "source": [
    "# EN4 hydrography monthly means\n",
    "hydro_EN4 = xr.open_dataset('~/nilas/en4/v4.2.1/EN.4.2.1.f.analysis.g10.197901-201812.nc').isel(time=range(12))"
   ]
  },
  {
   "cell_type": "markdown",
   "metadata": {},
   "source": [
    "## Depth penetration of shortwave radiation\n",
    "\n",
    "Use empirical exponential decay function of Paulson and Simpson (1977)\n",
    "$$ F_{PS77}(z) = R\\ e^{-\\frac{z}{h_1}}+(1-R)e^{-\\frac{z}{h_2}} $$\n",
    "where $R = 0.58$, $h_1 = 0.35m$, and $h_2 = 23m$."
   ]
  },
  {
   "cell_type": "code",
   "execution_count": 6,
   "metadata": {},
   "outputs": [],
   "source": [
    "R = 0.58\n",
    "h1 = 0.35\n",
    "h2 = 23\n",
    "\n",
    "# Calculate in 1D\n",
    "Fps77 = R*np.exp(-hydro_WOA.depth/h1)+(1-R)*np.exp(-hydro_WOA.depth/h2)\n",
    "# Replicate over grid\n",
    "Fps77 = Fps77*xr.ones_like(hydro_WOA.ct)\n",
    "\n",
    "# Now get a 3D shortwave field\n",
    "Qsw3d = Qsw_ERA.sr*Fps77\n",
    "# and take the divergence\n",
    "# (note that for taking the derivative, 'depth' must be positive upward, so reverse the sign)\n",
    "# (subsequently, reverse the sign so that it is consistent with the other variables)\n",
    "Qsw3d = Qsw3d.assign_coords(depth=-Qsw3d.depth) \n",
    "Qsw = Qsw3d.differentiate('depth')\n",
    "Qsw = Qsw.assign_coords(depth=-Qsw.depth) "
   ]
  },
  {
   "cell_type": "markdown",
   "metadata": {},
   "source": [
    "## b-factor\n",
    "\n",
    "From Jacket and McDougall (2005):\n",
    "$$ b = \\frac{|\\nabla \\gamma^n|}{|\\nabla \\rho_l|} $$\n",
    "\n",
    "From Groeskamp et al. (2018):\n",
    "$$ \\nabla \\rho_l = \\rho (-\\alpha\\nabla \\Theta + \\beta \\nabla S_A)$$\n",
    "where $\\rho$ is _in situ_ density."
   ]
  },
  {
   "cell_type": "code",
   "execution_count": 7,
   "metadata": {},
   "outputs": [],
   "source": [
    "def calc_b(T,S,rho,alpha,beta,gamma):\n",
    "    # Calculate gradients in T, S and gamma\n",
    "    # T\n",
    "    gradx_T = T.differentiate('lon')\n",
    "    grady_T = T.differentiate('lat')\n",
    "    gradz_T = T.differentiate('depth')\n",
    "    # S\n",
    "    gradx_S = S.differentiate('lon')\n",
    "    grady_S = S.differentiate('lat')\n",
    "    gradz_S = S.differentiate('depth')\n",
    "    # Locally referenced potential density\n",
    "    gradx_r = rho*(-alpha*gradx_T + beta*gradx_S)\n",
    "    grady_r = rho*(-alpha*grady_T + beta*grady_S)\n",
    "    gradz_r = rho*(-alpha*gradz_T + beta*gradz_S)\n",
    "    # gamma\n",
    "    gradx_g = gamma.differentiate('lon')\n",
    "    grady_g = gamma.differentiate('lat')\n",
    "    gradz_g = gamma.differentiate('depth')\n",
    "\n",
    "    # Calculate the absolute magnitudes\n",
    "    absgradx_r = xr.ufuncs.sqrt(xr.ufuncs.square(gradx_r)+xr.ufuncs.square(grady_r)+xr.ufuncs.square(gradz_r))\n",
    "    absgradx_g = xr.ufuncs.sqrt(xr.ufuncs.square(gradx_g)+xr.ufuncs.square(grady_g)+xr.ufuncs.square(gradz_g))\n",
    "    \n",
    "    # Calculate ratio\n",
    "    b = absgradx_g/absgradx_r\n",
    "    \n",
    "    return b"
   ]
  },
  {
   "cell_type": "code",
   "execution_count": 8,
   "metadata": {},
   "outputs": [],
   "source": [
    "# Calculate in situ density\n",
    "z = hydro_WOA.depth*xr.ones_like(hydro_WOA.ct)\n",
    "z = z.transpose('time','depth','lat','lon')\n",
    "lat = hydro_WOA.lat*xr.ones_like(hydro_WOA.ct)\n",
    "lat = lat.transpose('time','depth','lat','lon')\n",
    "p = gsw.p_from_z(-z,lat)*xr.ones_like(hydro_WOA.ct).rename('p')\n",
    "rho = gsw.rho(hydro_WOA.sa,hydro_WOA.ct,p)*xr.ones_like(hydro_WOA.ct).rename('rho')"
   ]
  },
  {
   "cell_type": "code",
   "execution_count": 9,
   "metadata": {},
   "outputs": [],
   "source": [
    "# Calculate b\n",
    "b = calc_b(hydro_WOA.ct,hydro_WOA.sa,rho,hydro_WOA.alpha,hydro_WOA.beta,hydro_WOA.gamman)"
   ]
  },
  {
   "cell_type": "markdown",
   "metadata": {},
   "source": [
    "## Water mass transformation calculation\n",
    "\n",
    "From Groeskamp and Iudicone (2018), transformation across a $\\gamma^n$ surface is given by:\n",
    "$$ G(\\gamma^n) = \\frac{\\partial}{\\partial \\gamma^n}\\iiint_{\\hat{\\gamma^n}\\leq\\gamma^n} \\hat{\\gamma^n}\\ b\\ F\\ dV $$\n",
    "\n",
    "The surface density flux, $F$, is given by:\n",
    "$$ F = \\big[-(E+P+R)S_A\\beta - \\frac{\\alpha}{C_p}(Q_{lw}+Q_{lh}+Q_{sh})\\big]\\delta(z-\\eta) + \\frac{\\alpha}{C_p}\\nabla \\cdot Q_{sw} F(z) $$\n",
    "where $F(z)$ describes the vertical penetration of incoming shortwave radiation."
   ]
  },
  {
   "cell_type": "code",
   "execution_count": 10,
   "metadata": {},
   "outputs": [],
   "source": [
    "def calc_F(FW,Q,Qsw,S,alpha,beta,Cp=4200):\n",
    "    \n",
    "    Fheat = (alpha/Cp)*Q + (alpha/Cp)*Qsw\n",
    "    Ffw = -FW*S*beta\n",
    "    F = Fheat+Ffw\n",
    "    \n",
    "    F.name = 'F'\n",
    "    Fheat.name = 'Fheat'\n",
    "    Ffw.name = 'Ffw'\n",
    "    \n",
    "    return F, Fheat, Ffw"
   ]
  },
  {
   "cell_type": "code",
   "execution_count": 11,
   "metadata": {},
   "outputs": [],
   "source": [
    "# Create a 3D mask with 1/dz in the surface and zero elsewhere\n",
    "mask = xr.zeros_like(hydro_WOA.ct)\n",
    "mask.loc[dict(depth=0)]=1/dz[0]\n",
    "# Calculate the specific heat capacity of water\n",
    "\n",
    "# Calculate density flux\n",
    "F,Fheat,Ffw = calc_F(FW_ERA.fw*mask,Q_ERA.ht*mask,Qsw,hydro_WOA.sa,hydro_WOA.alpha,hydro_WOA.beta)"
   ]
  },
  {
   "cell_type": "code",
   "execution_count": 12,
   "metadata": {},
   "outputs": [],
   "source": [
    "def calc_G(F,gamman,b,V,gn_edges):\n",
    "    Gint = xr.DataArray(np.zeros(shape=(gn_edges.size,F.time.size)),coords={'gn': gn_edges,'time': F.time},dims=['gn','time'])\n",
    "    gFbV = gamman*b*F*V\n",
    "    i=0\n",
    "    for g in gn_edges:\n",
    "        mask = gamman<g\n",
    "        Gint.loc[dict(gn=g)] = gFbV.where(mask,0).sum(dim=['lat','lon','depth'])\n",
    "        i+=1\n",
    "    G = Gint.differentiate('gn')\n",
    "    \n",
    "    return G"
   ]
  },
  {
   "cell_type": "code",
   "execution_count": 13,
   "metadata": {},
   "outputs": [],
   "source": [
    "# Alternative, discrete volume calculation derived in Appendix 7.5 of Groeskamp et al (2018)\n",
    "def calc_G_alt(F,gamman,b,V,gn_edges):\n",
    "    gn_centres = (gn_edges[1:] + gn_edges[:-1]) / 2\n",
    "    dgn = np.diff(gn_edges)\n",
    "    G = xr.DataArray(np.zeros(shape=(gn_centres.size,F.time.size)),coords={'gn': gn_centres,'time': F.time},dims=['gn','time'])\n",
    "    gFbV = gamman*b*F*V\n",
    "    for i in range(gn_edges.size-1):\n",
    "        mask = (gamman>gn_edges[i]) & (gamman<gn_edges[i+1])\n",
    "        G.loc[dict(gn=gn_centres[i])] = gFbV.where(mask,0).sum(dim=['lat','lon','depth'])/dgn[i]\n",
    "    \n",
    "    return G"
   ]
  },
  {
   "cell_type": "code",
   "execution_count": null,
   "metadata": {},
   "outputs": [],
   "source": [
    "# Calculate G\n",
    "gn_edges = np.arange(26,28.5,0.1)\n",
    "Gheat = calc_G(Fheat,hydro_WOA.gamman,b,vol4d,gn_edges)*1E-9\n",
    "Gfw = calc_G(Ffw,hydro_WOA.gamman,b,vol4d,gn_edges)*1E-9\n",
    "G = calc_G(F,hydro_WOA.gamman,b,vol4d,gn_edges)*1E-9"
   ]
  },
  {
   "cell_type": "code",
   "execution_count": null,
   "metadata": {},
   "outputs": [],
   "source": [
    "Gheat.mean('time').plot(label='Gheat')\n",
    "Gfw.mean('time').plot(label='Gfw')\n",
    "G.mean('time').plot(label='G')\n",
    "plt.legend()"
   ]
  },
  {
   "cell_type": "code",
   "execution_count": null,
   "metadata": {},
   "outputs": [],
   "source": [
    "# Calculate G\n",
    "gn_edges = np.arange(26,28.5,0.1)\n",
    "Gheat = calc_G_alt(Fheat,hydro_WOA.gamman,b,grid.vol4d,gn_edges)*1E-9\n",
    "Gfw = calc_G_alt(Ffw,hydro_WOA.gamman,b,grid.vol4d,gn_edges)*1E-9\n",
    "G = calc_G_alt(F,hydro_WOA.gamman,b,grid.vol4d,gn_edges)*1E-9"
   ]
  },
  {
   "cell_type": "code",
   "execution_count": null,
   "metadata": {},
   "outputs": [],
   "source": [
    "Gheat.mean('time').plot(label='Gheat')\n",
    "Gfw.mean('time').plot(label='Gfw')\n",
    "G.mean('time').plot(label='G')\n",
    "plt.legend()"
   ]
  },
  {
   "cell_type": "code",
   "execution_count": null,
   "metadata": {},
   "outputs": [],
   "source": []
  }
 ],
 "metadata": {
  "kernelspec": {
   "display_name": "Python 3",
   "language": "python",
   "name": "python3"
  },
  "language_info": {
   "codemirror_mode": {
    "name": "ipython",
    "version": 3
   },
   "file_extension": ".py",
   "mimetype": "text/x-python",
   "name": "python",
   "nbconvert_exporter": "python",
   "pygments_lexer": "ipython3",
   "version": "3.7.2"
  }
 },
 "nbformat": 4,
 "nbformat_minor": 2
}
